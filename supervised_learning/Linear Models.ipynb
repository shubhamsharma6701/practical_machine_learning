{
 "cells": [
  {
   "cell_type": "markdown",
   "id": "49caecba",
   "metadata": {},
   "source": [
    "## Linear models"
   ]
  },
  {
   "cell_type": "code",
   "execution_count": 1,
   "id": "7201bda8",
   "metadata": {},
   "outputs": [],
   "source": [
    "import mglearn"
   ]
  },
  {
   "cell_type": "code",
   "execution_count": 2,
   "id": "409480df",
   "metadata": {},
   "outputs": [
    {
     "name": "stdout",
     "output_type": "stream",
     "text": [
      "w[0]: 0.393906  b: -0.031804\n"
     ]
    },
    {
     "data": {
      "image/png": "[encoded data removed]",
      "text/plain": [
       "<Figure size 576x576 with 1 Axes>"
      ]
     },
     "metadata": {
      "needs_background": "light"
     },
     "output_type": "display_data"
    }
   ],
   "source": [
    "mglearn.plots.plot_linear_regression_wave()"
   ]
  },
  {
   "cell_type": "markdown",
   "id": "3a144c43",
   "metadata": {},
   "source": [
    "The linear models such as regression work very well for multiple features. One might say that for a straight line (like above), all the minor details of the data are lost but which is true as regression models tend to generalise the predictions on the dataset. In case of many features, the model works very well."
   ]
  },
  {
   "cell_type": "markdown",
   "id": "87d813e4",
   "metadata": {},
   "source": [
    "#### Linear Regression"
   ]
  },
  {
   "cell_type": "code",
   "execution_count": 3,
   "id": "473da70e",
   "metadata": {},
   "outputs": [],
   "source": [
    "from sklearn.linear_model import LinearRegression\n",
    "from sklearn.model_selection import train_test_split\n",
    "\n",
    "x, y = mglearn.datasets.make_wave(n_samples=60)\n",
    "x_train, x_test, y_train, y_test = train_test_split(x, y, random_state=42)"
   ]
  },
  {
   "cell_type": "code",
   "execution_count": 4,
   "id": "99daf7bc",
   "metadata": {},
   "outputs": [],
   "source": [
    "lr = LinearRegression().fit(x_train, y_train)"
   ]
  },
  {
   "cell_type": "code",
   "execution_count": 5,
   "id": "2e9f4505",
   "metadata": {},
   "outputs": [
    {
     "name": "stdout",
     "output_type": "stream",
     "text": [
      "\n",
      "LR coefficient: [0.39390555]\n"
     ]
    }
   ],
   "source": [
    "print(\"\\nLR coefficient: {}\".format(lr.coef_))"
   ]
  },
  {
   "cell_type": "code",
   "execution_count": 6,
   "id": "8ae60f20",
   "metadata": {},
   "outputs": [
    {
     "name": "stdout",
     "output_type": "stream",
     "text": [
      "\n",
      "LR intercept: -0.031804343026759746\n"
     ]
    }
   ],
   "source": [
    "print(\"\\nLR intercept: {}\".format(lr.intercept_))"
   ]
  },
  {
   "cell_type": "markdown",
   "id": "e62d394f",
   "metadata": {},
   "source": [
    "Notice that intercept is a float number but the coefficient is a numpy array."
   ]
  },
  {
   "cell_type": "code",
   "execution_count": 7,
   "id": "04953d41",
   "metadata": {},
   "outputs": [
    {
     "name": "stdout",
     "output_type": "stream",
     "text": [
      "\n",
      "Training set score: 0.67\n",
      "\n",
      "Test set score: 0.66\n"
     ]
    }
   ],
   "source": [
    "print(\"\\nTraining set score: {:.2f}\".format(lr.score(x_train, y_train)))\n",
    "print(\"\\nTest set score: {:.2f}\".format(lr.score(x_test, y_test)))"
   ]
  },
  {
   "cell_type": "markdown",
   "id": "123b0e8d",
   "metadata": {},
   "source": [
    "As we can see that the accuracy is pretty bad but it is bad for both training as well as testing data. This implies we are underfitting and not overfitting. This is consistent to what was said earlier that this model generalises too much and does not fit very well with the training set as there is just 1 feature in this dataset."
   ]
  },
  {
   "cell_type": "code",
   "execution_count": 8,
   "id": "b7017225",
   "metadata": {},
   "outputs": [
    {
     "name": "stderr",
     "output_type": "stream",
     "text": [
      "C:\\Users\\eshub\\anaconda3\\lib\\site-packages\\sklearn\\utils\\deprecation.py:87: FutureWarning: Function load_boston is deprecated; `load_boston` is deprecated in 1.0 and will be removed in 1.2.\n",
      "\n",
      "    The Boston housing prices dataset has an ethical problem. You can refer to\n",
      "    the documentation of this function for further details.\n",
      "\n",
      "    The scikit-learn maintainers therefore strongly discourage the use of this\n",
      "    dataset unless the purpose of the code is to study and educate about\n",
      "    ethical issues in data science and machine learning.\n",
      "\n",
      "    In this special case, you can fetch the dataset from the original\n",
      "    source::\n",
      "\n",
      "        import pandas as pd\n",
      "        import numpy as np\n",
      "\n",
      "\n",
      "        data_url = \"http://lib.stat.cmu.edu/datasets/boston\"\n",
      "        raw_df = pd.read_csv(data_url, sep=\"\\s+\", skiprows=22, header=None)\n",
      "        data = np.hstack([raw_df.values[::2, :], raw_df.values[1::2, :2]])\n",
      "        target = raw_df.values[1::2, 2]\n",
      "\n",
      "    Alternative datasets include the California housing dataset (i.e.\n",
      "    :func:`~sklearn.datasets.fetch_california_housing`) and the Ames housing\n",
      "    dataset. You can load the datasets as follows::\n",
      "\n",
      "        from sklearn.datasets import fetch_california_housing\n",
      "        housing = fetch_california_housing()\n",
      "\n",
      "    for the California housing dataset and::\n",
      "\n",
      "        from sklearn.datasets import fetch_openml\n",
      "        housing = fetch_openml(name=\"house_prices\", as_frame=True)\n",
      "\n",
      "    for the Ames housing dataset.\n",
      "    \n",
      "  warnings.warn(msg, category=FutureWarning)\n"
     ]
    }
   ],
   "source": [
    "x, y = mglearn.datasets.load_extended_boston()"
   ]
  },
  {
   "cell_type": "code",
   "execution_count": 9,
   "id": "bc013993",
   "metadata": {},
   "outputs": [],
   "source": [
    "x_train, x_test, y_train, y_test = train_test_split(x, y, random_state=0)\n",
    "lr = LinearRegression().fit(x_train, y_train)"
   ]
  },
  {
   "cell_type": "code",
   "execution_count": 10,
   "id": "45be46d6",
   "metadata": {},
   "outputs": [
    {
     "name": "stdout",
     "output_type": "stream",
     "text": [
      "\n",
      "Training set score is 0.95\n",
      "\n",
      "Testing set score is 0.61\n"
     ]
    }
   ],
   "source": [
    "print(\"\\nTraining set score is {:.2f}\".format(lr.score(x_train, y_train)))\n",
    "print(\"\\nTesting set score is {:.2f}\".format(lr.score(x_test, y_test)))"
   ]
  },
  {
   "cell_type": "markdown",
   "id": "7a360a97",
   "metadata": {},
   "source": [
    "Here, we can see that the model is clearly overfitting."
   ]
  },
  {
   "cell_type": "markdown",
   "id": "61abc881",
   "metadata": {},
   "source": [
    "#### Ridge regression"
   ]
  },
  {
   "cell_type": "markdown",
   "id": "61b80029",
   "metadata": {},
   "source": [
    "Ridge regression works on the principle that the weights of the features should be as low as possible thus decreasing the slope of the line while fitting well. This process of decreasing weights is called $regularization$."
   ]
  },
  {
   "cell_type": "code",
   "execution_count": 11,
   "id": "4d1ef8ef",
   "metadata": {},
   "outputs": [
    {
     "name": "stdout",
     "output_type": "stream",
     "text": [
      "\n",
      "Training set accuracy is 0.89\n",
      "\n",
      "Testing set accuracy is 0.75\n"
     ]
    }
   ],
   "source": [
    "from sklearn.linear_model import Ridge\n",
    "\n",
    "ridge = Ridge().fit(x_train, y_train)\n",
    "print(\"\\nTraining set accuracy is {:.2f}\".\n",
    "      format(ridge.score(x_train, y_train)))\n",
    "print(\"\\nTesting set accuracy is {:.2f}\".\n",
    "      format(ridge.score(x_test, y_test)))"
   ]
  },
  {
   "cell_type": "markdown",
   "id": "b554b9d6",
   "metadata": {},
   "source": [
    "There is a parameters of Ridge also called $alpha$, whose value can be passed in the parentheses (default is 1.0). Increasing its value further forces the coefficients to zero which decreases training set performance. "
   ]
  },
  {
   "cell_type": "code",
   "execution_count": 12,
   "id": "1828994c",
   "metadata": {},
   "outputs": [
    {
     "name": "stdout",
     "output_type": "stream",
     "text": [
      "\n",
      "Training set accuracy is 0.79\n",
      "\n",
      "Testing set accuracy is 0.64\n"
     ]
    }
   ],
   "source": [
    "ridge10 = Ridge(10).fit(x_train, y_train)\n",
    "\n",
    "print(\"\\nTraining set accuracy is {:.2f}\".\n",
    "      format(ridge10.score(x_train, y_train)))\n",
    "print(\"\\nTesting set accuracy is {:.2f}\".\n",
    "      format(ridge10.score(x_test, y_test)))"
   ]
  },
  {
   "cell_type": "code",
   "execution_count": 31,
   "id": "3ced88cc",
   "metadata": {},
   "outputs": [
    {
     "name": "stdout",
     "output_type": "stream",
     "text": [
      "\n",
      "Training set accuracy is 0.93\n",
      "\n",
      "Testing set accuracy is 0.77\n"
     ]
    }
   ],
   "source": [
    "ridge10 = Ridge(0.1).fit(x_train, y_train)\n",
    "\n",
    "print(\"\\nTraining set accuracy is {:.2f}\".\n",
    "      format(ridge10.score(x_train, y_train)))\n",
    "print(\"\\nTesting set accuracy is {:.2f}\".\n",
    "      format(ridge10.score(x_test, y_test)))"
   ]
  },
  {
   "cell_type": "markdown",
   "id": "0dc37205",
   "metadata": {},
   "source": [
    "##### Analysing the coefficient value with changing alpha"
   ]
  },
  {
   "cell_type": "code",
   "execution_count": 33,
   "id": "ad339a96",
   "metadata": {},
   "outputs": [
    {
     "data": {
      "text/plain": [
       "<matplotlib.legend.Legend at 0x1190974b070>"
      ]
     },
     "execution_count": 33,
     "metadata": {},
     "output_type": "execute_result"
    },
    {
     "data": {
      "image/png": "[encoded data removed]",
      "text/plain": [
       "<Figure size 432x288 with 1 Axes>"
      ]
     },
     "metadata": {
      "needs_background": "light"
     },
     "output_type": "display_data"
    }
   ],
   "source": [
    "import matplotlib.pyplot as plt\n",
    "\n",
    "plt.plot(ridge.coef_, 's', label=\"Ridge alpha=1\")\n",
    "plt.plot(ridge.coef_, '^', label=\"Ridge alpha=10\")\n",
    "plt.plot(ridge.coef_, 'v', label=\"Ridge alpha=.1\")\n",
    "\n",
    "plt.plot(lr.coef_, 'o', label=\"Linear Regression\")\n",
    "plt.xlabel(\"Coefficient index\")\n",
    "plt.ylabel(\"Coefficient magnitude\")\n",
    "plt.hlines(0, 0, len(lr.coef_))\n",
    "plt.ylim(-25, 25)\n",
    "plt.legend()\n"
   ]
  },
  {
   "cell_type": "code",
   "execution_count": 34,
   "id": "fa3a8797",
   "metadata": {},
   "outputs": [
    {
     "name": "stderr",
     "output_type": "stream",
     "text": [
      "C:\\Users\\eshub\\anaconda3\\lib\\site-packages\\sklearn\\utils\\deprecation.py:87: FutureWarning: Function load_boston is deprecated; `load_boston` is deprecated in 1.0 and will be removed in 1.2.\n",
      "\n",
      "    The Boston housing prices dataset has an ethical problem. You can refer to\n",
      "    the documentation of this function for further details.\n",
      "\n",
      "    The scikit-learn maintainers therefore strongly discourage the use of this\n",
      "    dataset unless the purpose of the code is to study and educate about\n",
      "    ethical issues in data science and machine learning.\n",
      "\n",
      "    In this special case, you can fetch the dataset from the original\n",
      "    source::\n",
      "\n",
      "        import pandas as pd\n",
      "        import numpy as np\n",
      "\n",
      "\n",
      "        data_url = \"http://lib.stat.cmu.edu/datasets/boston\"\n",
      "        raw_df = pd.read_csv(data_url, sep=\"\\s+\", skiprows=22, header=None)\n",
      "        data = np.hstack([raw_df.values[::2, :], raw_df.values[1::2, :2]])\n",
      "        target = raw_df.values[1::2, 2]\n",
      "\n",
      "    Alternative datasets include the California housing dataset (i.e.\n",
      "    :func:`~sklearn.datasets.fetch_california_housing`) and the Ames housing\n",
      "    dataset. You can load the datasets as follows::\n",
      "\n",
      "        from sklearn.datasets import fetch_california_housing\n",
      "        housing = fetch_california_housing()\n",
      "\n",
      "    for the California housing dataset and::\n",
      "\n",
      "        from sklearn.datasets import fetch_openml\n",
      "        housing = fetch_openml(name=\"house_prices\", as_frame=True)\n",
      "\n",
      "    for the Ames housing dataset.\n",
      "    \n",
      "  warnings.warn(msg, category=FutureWarning)\n"
     ]
    },
    {
     "data": {
      "image/png": "[encoded data removed]",
      "text/plain": [
       "<Figure size 432x288 with 1 Axes>"
      ]
     },
     "metadata": {
      "needs_background": "light"
     },
     "output_type": "display_data"
    }
   ],
   "source": [
    "mglearn.plots.plot_ridge_n_samples()"
   ]
  },
  {
   "cell_type": "code",
   "execution_count": null,
   "id": "fcbb87b8",
   "metadata": {},
   "outputs": [],
   "source": []
  }
 ],
 "metadata": {
  "kernelspec": {
   "display_name": "Python 3 (ipykernel)",
   "language": "python",
   "name": "python3"
  },
  "language_info": {
   "codemirror_mode": {
    "name": "ipython",
    "version": 3
   },
   "file_extension": ".py",
   "mimetype": "text/x-python",
   "name": "python",
   "nbconvert_exporter": "python",
   "pygments_lexer": "ipython3",
   "version": "3.9.12"
  }
 },
 "nbformat": 4,
 "nbformat_minor": 5
}
